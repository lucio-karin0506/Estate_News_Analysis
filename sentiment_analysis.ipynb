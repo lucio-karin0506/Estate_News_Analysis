{
 "cells": [
  {
   "cell_type": "markdown",
   "metadata": {},
   "source": [
    "# 1. 라이브러리 로드"
   ]
  },
  {
   "cell_type": "code",
   "execution_count": 1,
   "metadata": {},
   "outputs": [],
   "source": [
    "from openai import OpenAI\n",
    "\n",
    "import pandas as pd\n",
    "import numpy as np\n",
    "\n",
    "import json\n",
    "\n",
    "from tqdm.auto import tqdm"
   ]
  },
  {
   "cell_type": "markdown",
   "metadata": {},
   "source": [
    "# 2. 데이터 로드"
   ]
  },
  {
   "cell_type": "code",
   "execution_count": 2,
   "metadata": {},
   "outputs": [
    {
     "name": "stdout",
     "output_type": "stream",
     "text": [
      "<class 'pandas.core.frame.DataFrame'>\n",
      "Index: 17075 entries, 0 to 17074\n",
      "Data columns (total 22 columns):\n",
      " #   Column                            Non-Null Count  Dtype \n",
      "---  ------                            --------------  ----- \n",
      " 0   title                             17075 non-null  object\n",
      " 1   link                              17075 non-null  object\n",
      " 2   article                           17075 non-null  object\n",
      " 3   date                              17075 non-null  object\n",
      " 4   media                             17075 non-null  object\n",
      " 5   region_code                       17075 non-null  int64 \n",
      " 6   region                            17075 non-null  object\n",
      " 7   district                          17075 non-null  object\n",
      " 8   yyyymm                            17075 non-null  object\n",
      " 9   text_length                       17075 non-null  int64 \n",
      " 10  text_token_length                 17075 non-null  int64 \n",
      " 11  article_summary                   17075 non-null  object\n",
      " 12  preprocessed_article              17075 non-null  object\n",
      " 13  preprocessed_article_summary      17075 non-null  object\n",
      " 14  article_len                       17075 non-null  int64 \n",
      " 15  article_summary_len               17075 non-null  int64 \n",
      " 16  preprocessed_article_len          17075 non-null  int64 \n",
      " 17  preprocessed_article_summary_len  17075 non-null  int64 \n",
      " 18  topic                             17075 non-null  int64 \n",
      " 19  Topic                             17075 non-null  int64 \n",
      " 20  Name                              17075 non-null  object\n",
      " 21  Representation                    17075 non-null  object\n",
      "dtypes: int64(9), object(13)\n",
      "memory usage: 3.0+ MB\n"
     ]
    }
   ],
   "source": [
    "refined_district_news = pd.read_csv('bertopic_test/refined_news_topic.csv', index_col=0)\n",
    "refined_district_news.info()"
   ]
  },
  {
   "cell_type": "code",
   "execution_count": 3,
   "metadata": {},
   "outputs": [],
   "source": [
    "with open('openapi_key.json', 'r') as json_file:\n",
    "    openapi_key = json.load(json_file)\n",
    "\n",
    "client = OpenAI(api_key=openapi_key['key'])"
   ]
  },
  {
   "cell_type": "markdown",
   "metadata": {},
   "source": [
    "# 감성분석\n",
    "* ChatGPT API 활용\n",
    "* 긍정, 부정, 중립 출현확률을 이용"
   ]
  },
  {
   "cell_type": "code",
   "execution_count": 14,
   "metadata": {},
   "outputs": [],
   "source": [
    "def analyze_sentiment_korean(text, model):\n",
    "\n",
    "    # 한글 프롬프트 작성\n",
    "    prompt = f\"\"\"\n",
    "        아래의 문장에 대한 감정을 분석하고, 긍정, 부정, 중립에 대한 확률을 제공해주세요.\n",
    "        그리고 반드시 긍정, 부정, 중립에 대한 확률 (실수형 값)로만 아래와 같은 형식으로 반환해주세요\n",
    "        무조건 아래 형식으로만 반환을 해주세요:\n",
    "\n",
    "        긍정: [확률], 부정: [확률], 중립: [확률]\n",
    "\n",
    "        문장: \"{text}\"\n",
    "    \"\"\"\n",
    "\n",
    "    # OpenAI API 호출\n",
    "    response = client.chat.completions.create(\n",
    "        model=model,  # GPT 모델 선택\n",
    "        messages=[\n",
    "            {'role': 'user', 'content': prompt}\n",
    "        ]\n",
    "    )\n",
    "\n",
    "    # 결과 처리\n",
    "    output = response.choices[0].message.content\n",
    "\n",
    "    return output"
   ]
  },
  {
   "cell_type": "code",
   "execution_count": 5,
   "metadata": {},
   "outputs": [
    {
     "data": {
      "text/plain": [
       "'\\n 서울시가 강남구와 서초구 일대 27km2 규모의 자연녹지지역 토지를 토지거래허가구역으로 재지정했다. 부동산 투기를 사전 차단하기 위한 조치다.서울시는 12일 제6차 도시계획위원회 심의를 열고 오는 30일 만료되는 강남·서초구 일대 자연녹지를 2024년 5월 30일까지 3년 간 토지거래허가구역으로 재지정한다고 13일 밝혔다. 해당구역은 강남구 6.02km, 서초구 21.27km에 달하는 구간이다.강남구 재지정 지역은 수서역세권 공공주택지구와 구룡마을 도시개발사업이 진행되는 인접지역이다. 수서동 1.07km2를 포함해 △개포동 1.21km2 △세곡동(1.16km2) △율현동(0.54km2) △자곡동(1.25km2) △일원동(0.68km2) △대치동(0.11km2)이다.서초구는 양재R&D혁신지구와 방배동 성뒤마을 공공주택지구 등을 비롯한 양재동 1.26km2를 비롯해 △면동(2.94km2) △방배동(1.35km2) △내곡동(6.2km2) △신원동(2.09km2) △염곡동(1.45km2) △원지동(5.06km2) △서초동(0'"
      ]
     },
     "execution_count": 5,
     "metadata": {},
     "output_type": "execute_result"
    }
   ],
   "source": [
    "text = refined_district_news.loc[150, 'article_summary']\n",
    "model = 'gpt-4o'\n",
    "text"
   ]
  },
  {
   "cell_type": "code",
   "execution_count": null,
   "metadata": {},
   "outputs": [],
   "source": [
    "# 감성분석 수행\n",
    "refined_district_news['positive_ratio'] = np.nan\n",
    "refined_district_news['neutral_ratio'] = np.nan\n",
    "refined_district_news['negative_ratio'] = np.nan\n",
    "\n",
    "for value in tqdm(refined_district_news.itertuples(), total=len(refined_district_news)):\n",
    "\n",
    "    try:\n",
    "\n",
    "        sentiment_raw_output = analyze_sentiment_korean(value.article_summary, model)\n",
    "        sentiment_result_dic = {}\n",
    "        for line in sentiment_raw_output.split(', '):\n",
    "            sentiment, ratio = line.split(': ')\n",
    "            sentiment_result_dic[sentiment.strip()] = float(ratio.strip())\n",
    "\n",
    "        refined_district_news.at[value.Index, 'positive_ratio'] = sentiment_result_dic['긍정']\n",
    "        refined_district_news.at[value.Index, 'negative_ratio'] = sentiment_result_dic['부정']\n",
    "        refined_district_news.at[value.Index, 'neutral_ratio'] = sentiment_result_dic['중립']\n",
    "\n",
    "    except: \n",
    "        print(f'{value.title} -> {value.link} and sentiment answer...{sentiment_raw_output}')"
   ]
  },
  {
   "cell_type": "code",
   "execution_count": null,
   "metadata": {},
   "outputs": [],
   "source": [
    "refined_district_news_sentiment_null_df = refined_district_news[refined_district_news['positive_ratio'].isnull()]\n",
    "\n",
    "for value in tqdm(refined_district_news_sentiment_null_df.itertuples(), total=len(refined_district_news_sentiment_null_df)):\n",
    "\n",
    "    try:\n",
    "\n",
    "        sentiment_raw_output = analyze_sentiment_korean(value.article_summary, model)\n",
    "        sentiment_result_dic = {}\n",
    "        for line in sentiment_raw_output.split(', '):\n",
    "            sentiment, ratio = line.split(': ')\n",
    "            sentiment_result_dic[sentiment.strip()] = float(ratio.strip())\n",
    "\n",
    "        refined_district_news_sentiment_null_df.at[value.Index, 'positive_ratio'] = sentiment_result_dic['긍정']\n",
    "        refined_district_news_sentiment_null_df.at[value.Index, 'negative_ratio'] = sentiment_result_dic['부정']\n",
    "        refined_district_news_sentiment_null_df.at[value.Index, 'neutral_ratio'] = sentiment_result_dic['중립']\n",
    "\n",
    "    except:\n",
    "        print(f'{value.title} -> {value.link} and sentiment answer...{sentiment_raw_output}')"
   ]
  },
  {
   "cell_type": "code",
   "execution_count": 29,
   "metadata": {},
   "outputs": [
    {
     "name": "stdout",
     "output_type": "stream",
     "text": [
      "<class 'pandas.core.frame.DataFrame'>\n",
      "RangeIndex: 17075 entries, 0 to 17074\n",
      "Data columns (total 25 columns):\n",
      " #   Column                            Non-Null Count  Dtype  \n",
      "---  ------                            --------------  -----  \n",
      " 0   title                             17075 non-null  object \n",
      " 1   link                              17075 non-null  object \n",
      " 2   article                           17075 non-null  object \n",
      " 3   date                              17075 non-null  object \n",
      " 4   media                             17075 non-null  object \n",
      " 5   region_code                       17075 non-null  int64  \n",
      " 6   region                            17075 non-null  object \n",
      " 7   district                          17075 non-null  object \n",
      " 8   yyyymm                            17075 non-null  object \n",
      " 9   text_length                       17075 non-null  int64  \n",
      " 10  text_token_length                 17075 non-null  int64  \n",
      " 11  article_summary                   17075 non-null  object \n",
      " 12  preprocessed_article              17075 non-null  object \n",
      " 13  preprocessed_article_summary      17075 non-null  object \n",
      " 14  article_len                       17075 non-null  int64  \n",
      " 15  article_summary_len               17075 non-null  int64  \n",
      " 16  preprocessed_article_len          17075 non-null  int64  \n",
      " 17  preprocessed_article_summary_len  17075 non-null  int64  \n",
      " 18  topic                             17075 non-null  int64  \n",
      " 19  Topic                             17075 non-null  int64  \n",
      " 20  Name                              17075 non-null  object \n",
      " 21  Representation                    17075 non-null  object \n",
      " 22  positive_ratio                    16997 non-null  float64\n",
      " 23  neutral_ratio                     16997 non-null  float64\n",
      " 24  negative_ratio                    16997 non-null  float64\n",
      "dtypes: float64(3), int64(9), object(13)\n",
      "memory usage: 3.3+ MB\n"
     ]
    }
   ],
   "source": [
    "refined_district_news2 = pd.concat([refined_district_news[~refined_district_news['positive_ratio'].isnull()], refined_district_news_sentiment_null_df], ignore_index=True)\n",
    "refined_district_news2.info()"
   ]
  },
  {
   "cell_type": "code",
   "execution_count": 32,
   "metadata": {},
   "outputs": [
    {
     "data": {
      "text/plain": [
       "title                                0\n",
       "link                                 0\n",
       "article                              0\n",
       "date                                 0\n",
       "media                                0\n",
       "region_code                          0\n",
       "region                               0\n",
       "district                             0\n",
       "yyyymm                               0\n",
       "text_length                          0\n",
       "text_token_length                    0\n",
       "article_summary                      0\n",
       "preprocessed_article                 0\n",
       "preprocessed_article_summary         0\n",
       "article_len                          0\n",
       "article_summary_len                  0\n",
       "preprocessed_article_len             0\n",
       "preprocessed_article_summary_len     0\n",
       "topic                                0\n",
       "Topic                                0\n",
       "Name                                 0\n",
       "Representation                       0\n",
       "positive_ratio                      78\n",
       "neutral_ratio                       78\n",
       "negative_ratio                      78\n",
       "dtype: int64"
      ]
     },
     "execution_count": 32,
     "metadata": {},
     "output_type": "execute_result"
    }
   ],
   "source": [
    "refined_district_news2.isnull().sum()"
   ]
  },
  {
   "cell_type": "code",
   "execution_count": null,
   "metadata": {},
   "outputs": [],
   "source": [
    "# refined_district_news2.to_csv('refined_news_topic_sentiment.csv', encoding='utf-8-sig')"
   ]
  }
 ],
 "metadata": {
  "kernelspec": {
   "display_name": ".venv",
   "language": "python",
   "name": "python3"
  },
  "language_info": {
   "codemirror_mode": {
    "name": "ipython",
    "version": 3
   },
   "file_extension": ".py",
   "mimetype": "text/x-python",
   "name": "python",
   "nbconvert_exporter": "python",
   "pygments_lexer": "ipython3",
   "version": "3.12.4"
  }
 },
 "nbformat": 4,
 "nbformat_minor": 2
}
